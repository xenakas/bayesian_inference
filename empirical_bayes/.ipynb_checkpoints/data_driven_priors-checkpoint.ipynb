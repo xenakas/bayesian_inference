{
 "cells": [
  {
   "cell_type": "markdown",
   "metadata": {},
   "source": [
    "### [Data-driven priors from same data set](https://stats.stackexchange.com/questions/15888/allow-data-to-dictate-the-priors-and-then-run-the-model-using-these-priors-e-g)"
   ]
  },
  {
   "cell_type": "markdown",
   "metadata": {},
   "source": [
    "##### Pros"
   ]
  },
  {
   "cell_type": "markdown",
   "metadata": {},
   "source": [
    "For an example in mixture modelling, see [Richardson & Green (1997)](\n",
    "(http://citeseer.ist.psu.edu/viewdoc/summary?doi=10.1.1.27.3667)\n",
    "\n",
    "They use the mean and the range of the data points as hyperparameters for the prior and it makes perfect sense.\n",
    "\n",
    "The problem of using the data twice occurs when a informative prior is derived from the data, in my opinion.\n",
    "\n",
    "As long as you check that your prior distribution is \"flat\" where the posterior distribution is peaked, then you know that your prior distribution has not a strong impact on the results."
   ]
  },
  {
   "cell_type": "markdown",
   "metadata": {},
   "source": [
    "##### Cons"
   ]
  },
  {
   "cell_type": "markdown",
   "metadata": {},
   "source": [
    "Yes this is inappropriate because it uses the same data twice, leading to falsely overconfident results. This is known as 'double dipping'.\n",
    "\n",
    "For references, I would start with Carlin and Louis (2000). Although 'double dipping' has been one of the primary critiques of Empirical Bayes, Ch. 3, in particular section 3.5, of this book describes ways to estimate appropriate confidence intervals using the EB approach.\n",
    "\n"
   ]
  },
  {
   "cell_type": "markdown",
   "metadata": {},
   "source": [
    "- [Logic of Plausible Inference: Cox's Theorem](http://ksvanhorn.com/bayes/Papers/rcox.pdf)\n",
    "- [The Case for Objective Bayesian Analysis](https://www.ime.usp.br/~abe/lista/pdfTFOW5ADDD0.pdf)\n",
    "- [Bayesian Methods for Data-Dependent Priors](https://etd.ohiolink.edu/!etd.send_file?accession=osu1306344172&disposition=inline)"
   ]
  },
  {
   "cell_type": "markdown",
   "metadata": {},
   "source": [
    "#### [Bayesian Methods for Data-Dependent Priors](https://etd.ohiolink.edu/!etd.send_file?accession=osu1306344172&disposition=inline)"
   ]
  },
  {
   "cell_type": "markdown",
   "metadata": {},
   "source": [
    "#### [Data-dependent probability matching priors for empirical and related likelihoods](https://arxiv.org/pdf/0805.3203.pdf)"
   ]
  },
  {
   "cell_type": "markdown",
   "metadata": {},
   "source": [
    "#### [Different purposes of priors](https://www.mrc-bsu.cam.ac.uk/wp-content/uploads/bugsbook_chapter5.pdf)"
   ]
  },
  {
   "cell_type": "markdown",
   "metadata": {},
   "source": [
    "#### [Choosing a Prior Distribution](https://www2.stat.duke.edu/courses/Spring13/sta732.01/priors.pdf)"
   ]
  },
  {
   "cell_type": "markdown",
   "metadata": {},
   "source": [
    "#### [A Catalog of Noninformative Priors](http://www.stats.org.uk/priors/noninformative/YangBerger1998.pdf)\n"
   ]
  },
  {
   "cell_type": "markdown",
   "metadata": {},
   "source": [
    "#### [Minimally Informative Prior Distributions for PSA](https://www.osti.gov/biblio/984541)"
   ]
  },
  {
   "cell_type": "markdown",
   "metadata": {},
   "source": [
    "#### [Highly Informative Priors](https://pdfs.semanticscholar.org/3e39/65c1bf75011a417056c9a4ab8b1d268a45bc.pdf)"
   ]
  },
  {
   "cell_type": "code",
   "execution_count": null,
   "metadata": {},
   "outputs": [],
   "source": []
  }
 ],
 "metadata": {
  "kernelspec": {
   "display_name": "Python 3",
   "language": "python",
   "name": "python3"
  },
  "language_info": {
   "codemirror_mode": {
    "name": "ipython",
    "version": 3
   },
   "file_extension": ".py",
   "mimetype": "text/x-python",
   "name": "python",
   "nbconvert_exporter": "python",
   "pygments_lexer": "ipython3",
   "version": "3.6.5"
  }
 },
 "nbformat": 4,
 "nbformat_minor": 2
}
