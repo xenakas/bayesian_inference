{
 "cells": [
  {
   "cell_type": "markdown",
   "metadata": {},
   "source": [
    "# Bayesian Methods "
   ]
  },
  {
   "cell_type": "markdown",
   "metadata": {},
   "source": [
    "## Why is the Bayesian Inference controversial?"
   ]
  },
  {
   "cell_type": "markdown",
   "metadata": {},
   "source": [
    "1. Bayesians claim that the parameters are random so that their credible interval is a valid probability argument. This interpretation looks nice but the credible interval of the parameters of interest not only depends on the likelihood but also the prior, which is usually hard to obtain.\n",
    "\n",
    "2. When the likelihood and prior is complicated, the inference has to rely on the MCMC sampling, which can be really slow in most of the real-world cases.\n",
    "\n",
    "3. The biggest controversy about Bayesian inference is that you must quantify your prior knowledge about the question at hand. This makes it possible to actually influence your results, either accidentally or on purpose.\n",
    "\n",
    "This is a genuine concern, and any Bayesian analysis worth it’s salt must demonstrate that the chosen priors aren’t influencing the final results. \n",
    "\n",
    "\n",
    "\n",
    "\n"
   ]
  },
  {
   "cell_type": "markdown",
   "metadata": {},
   "source": [
    "# [Bayesian Inference](http://pages.stat.wisc.edu/~larget/stat302/bayes.pdf)\n",
    "  "
   ]
  },
  {
   "cell_type": "markdown",
   "metadata": {},
   "source": [
    "###  Prior and Posterior Distributions, Likelihood"
   ]
  },
  {
   "cell_type": "markdown",
   "metadata": {},
   "source": [
    "Before seeing data, the prior distribution of an unknown parameter θ is described by a\n",
    "probability density (or mass function, if discrete)  $f(\\theta)$  The Bayesian approach connects\n",
    "data and parameter through the likelihood function, $f(x \\mid \\theta)$ . The function where x is fixed as the data and the parameter $\\theta$ is what varies\n",
    "is called the likelihood. Parameter values where the likelihood is high are those that have\n",
    "a high probability of producing the observed data.   In the maximum likelihood approach to\n",
    "statistics, the best estimate of the value $\\hat{\\theta}$ that maximizes the likelihood (and log-likelihood)\n",
    "function.\n",
    "\n",
    " All Bayesian inference is based on evaluation of the posterior distribution: \n",
    " $$f(\\theta \\mid x) = \\dfrac{f(x \\mid \\theta)f(\\theta)}{f(x)}$$\n",
    " where $f(x) = \\int f(x \\mid \\theta)f(\\theta) d \\theta $ is the marginal likelihood f(x), which is the probability\n",
    "of observing the data $x$ averaged across the entire parameter space.\n"
   ]
  },
  {
   "cell_type": "markdown",
   "metadata": {},
   "source": [
    "### [Bayesian Autoregressive Time Series Models](https://www.michaelchughes.com/blog/probability-basics/autoregressive-time-series-models/)"
   ]
  },
  {
   "cell_type": "markdown",
   "metadata": {},
   "source": [
    "#### About stability\n",
    "\n",
    "In general, it is worth noting that for most possible choices of the A matrix, the resulting dynamics will not be “stable”, in the sense that the time series $y_1, \\ldots y_T$ will either converge to the zero vector or diverge to infinity, producing rather “uninteresting” dynamics. This can happen quite rapidly, sometimes within 10 or 20 timesteps.\n",
    "\n",
    "To explain this phenomenon, we need only see that the mean of observation at timestep $t$ is a deterministic function of the initial point and repeated matrix multiplication by A.\n",
    "\n",
    "$$\\mu_t = \\mathbb{E}[ y_t ] = A^t y_1 $$ \n",
    "\n",
    "\n",
    "Most regression weights A will yield rather non-interesting dynamics after long time epochs. This motivates extending the model for time series to overcome this tendency, such as using switching VAR processes so that after small amounts of time under some $(A,\\Sigma)$ the system switches to other parameters $(A', \\Sigma')$, which can explain different regimes of time series behavior."
   ]
  },
  {
   "cell_type": "markdown",
   "metadata": {},
   "source": [
    "#### About identifiability\n",
    "\n",
    "It is important to note that under the Matrix Normal distribution, the Kronecker product $\\Psi \\circ \\Sigma$ is identifiable, but the individual parameters $\\Psi, \\Sigma$ are only identifiable up to a constant $c$.  This occurs because for any $\\Psi,\\Sigma$, we can use $\\Psi/c, c\\Sigma$ and achieve the same probability value for matrix $A$.  \n",
    "\n",
    "Thus, it can be difficult to parameterize the priors appropriately, since $\\Psi_0$ and $S_0$ can be scaled arbitrarily via the constant $c$ and yield similar results.  \n"
   ]
  },
  {
   "cell_type": "code",
   "execution_count": null,
   "metadata": {},
   "outputs": [],
   "source": []
  }
 ],
 "metadata": {
  "hide_input": false,
  "kernelspec": {
   "display_name": "Python 3",
   "language": "python",
   "name": "python3"
  },
  "language_info": {
   "codemirror_mode": {
    "name": "ipython",
    "version": 3
   },
   "file_extension": ".py",
   "mimetype": "text/x-python",
   "name": "python",
   "nbconvert_exporter": "python",
   "pygments_lexer": "ipython3",
   "version": "3.7.3"
  },
  "latex_envs": {
   "LaTeX_envs_menu_present": true,
   "autoclose": true,
   "autocomplete": true,
   "bibliofile": "biblio.bib",
   "cite_by": "apalike",
   "current_citInitial": 1,
   "eqLabelWithNumbers": true,
   "eqNumInitial": 1,
   "hotkeys": {
    "equation": "Ctrl-E",
    "itemize": "Ctrl-I"
   },
   "labels_anchors": false,
   "latex_user_defs": false,
   "report_style_numbering": false,
   "user_envs_cfg": false
  },
  "toc": {
   "base_numbering": 1,
   "nav_menu": {},
   "number_sections": true,
   "sideBar": true,
   "skip_h1_title": false,
   "title_cell": "Table of Contents",
   "title_sidebar": "Contents",
   "toc_cell": false,
   "toc_position": {},
   "toc_section_display": true,
   "toc_window_display": false
  },
  "varInspector": {
   "cols": {
    "lenName": 16,
    "lenType": 16,
    "lenVar": 40
   },
   "kernels_config": {
    "python": {
     "delete_cmd_postfix": "",
     "delete_cmd_prefix": "del ",
     "library": "var_list.py",
     "varRefreshCmd": "print(var_dic_list())"
    },
    "r": {
     "delete_cmd_postfix": ") ",
     "delete_cmd_prefix": "rm(",
     "library": "var_list.r",
     "varRefreshCmd": "cat(var_dic_list()) "
    }
   },
   "types_to_exclude": [
    "module",
    "function",
    "builtin_function_or_method",
    "instance",
    "_Feature"
   ],
   "window_display": false
  }
 },
 "nbformat": 4,
 "nbformat_minor": 2
}
