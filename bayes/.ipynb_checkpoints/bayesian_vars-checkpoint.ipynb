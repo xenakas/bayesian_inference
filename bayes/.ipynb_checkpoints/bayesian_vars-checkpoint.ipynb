{
 "cells": [
  {
   "cell_type": "markdown",
   "metadata": {},
   "source": [
    "### [Large BVARs](https://www.ecb.europa.eu/pub/pdf/scpwps/ecbwp966.pdf)"
   ]
  },
  {
   "cell_type": "markdown",
   "metadata": {},
   "source": [
    "This paper shows that Vector Autoregression with Bayesian shrinkage is an appropriate\n",
    "tool for large dynamic models. We build on the results by De Mol, Giannone, and\n",
    "Reichlin (2008) and show that, when the degree of shrinkage is set in relation to the\n",
    "cross-sectional dimension, the forecasting performance of small monetary VARs can be\n",
    "improved by adding additional macroeconomic variables and sectoral information. In\n",
    "addition, we show that large VARs with shrinkage produce credible impulse responses\n",
    "and are suitable for structural analysis. \n",
    "\n",
    "Vector Autoregressions (VAR) are standard tools in macroeconomics and are widely used\n",
    "for structural analysis and forecasting. In contrast to e.g. structural models they do not\n",
    "impose restrictions on the parameters and hence provide a very general representation\n",
    "allowing to capture complex data relationships. On the other hand, this high level of\n",
    "generality implies a large number of parameters even for systems of moderate size. This\n",
    "entails a risk of over-parametrization since, with the typical sample size available for\n",
    "macroeconomic applications, the number of unrestricted parameters that can reliably\n",
    "be estimated is rather limited. Consequently, VAR applications are usually based only\n",
    "on a _small number of variables._\n",
    "\n",
    "In this paper we show that by applying Bayesian shrinkage, we are able to handle\n",
    "large unrestricted VARs and that therefore VAR framework can be applied to empirical\n",
    "problems that require the analysis of more than a handful of time series. For example, we\n",
    "can analyse VARs containing the wish list of any macroeconomist (see e.g. Uhlig, 2004)\n",
    "but it is also possible to extend the information set further and include the disaggregated,\n",
    "sectorial and geographical indicators. Consequently, Bayesian VAR is a valid alternative\n",
    "to factor models or panel VARs for the analysis of large dynamic systems.\n",
    "\n",
    "\n",
    "We\n",
    "also compare the results of Bayesian VARs with those from Factor Augmented VAR\n",
    "(FAVAR) of Bernanke, Boivin, and Eliasz (2005).\n",
    "\n",
    "\n",
    "#### Setting the priors for the VAR\n",
    "\n",
    "\n",
    "It is important to stress that since we compare models of different size, we need to have\n",
    "a strategy for how to choose the shrinkage hyperparameter as models become larger.\n",
    "As the dimension increases, we want to shrink more, as suggested by the analysis in\n",
    "De Mol, Giannone, and Reichlin (2008) in order to control for over-fitting. A simple\n",
    "solution is to set the tightness of the prior so that all models have the same in-sample fit\n",
    "as the smallest VAR estimated by OLS. By ensuring that the in-sample fit is constant,\n",
    "i.e. independent of the model size, we can meaningfully compare results across models"
   ]
  },
  {
   "cell_type": "markdown",
   "metadata": {},
   "source": [
    "### [A large Bayesian vector autoregression model for Russia ](http://www.cbr.ru/content/document/file/16690/wps_1_e.pdf)"
   ]
  },
  {
   "cell_type": "markdown",
   "metadata": {},
   "source": [
    "We apply an econometric approach developed specifically to address the ‘curse of dimensionality’ in Russian data and\n",
    "estimate a Bayesian vector autoregression model comprising 14 major domestic real, price and monetary macroeconomic indicators as well as external sector variables. We conduct several types of exercise to validate our model: impulse response analysis, recursive forecasting and counter factual simulation. Our results demonstrate that the employed methodology is highly appropriate for economic modelling in Russia. We also show that post-crisis real sector\n",
    "developments in Russia could be accurately forecast if conditioned on the oil price and EU GDP (but not if conditioned\n",
    "on the oil price alone).\n",
    "\n",
    "\n",
    "The set of competitor models consists of:\n",
    "- Random walk (RW). The forecast for a given variable is its average growth rate over the previous observations. \n",
    "- BVAR with ‘Minnesota’ prior (M BVAR). We re-estimate our model using a dogmatic BVAR with a dogmatic ‘Minnesota’ prior. This approach may be regarded as another representation of the random walk model.\n",
    "- Autoregressive model (AR(5)). A univariate autoregressive model with 5 lags for each variable.\n",
    "- Canonical VAR (VAR). We estimate a collection of small canonical VARs each comprising\n",
    "\n",
    "\n",
    " Interestingly, the oil price alone did not contain sufficient\n",
    "information for producing an accurate forecast, while conditioning the projections on both the oil\n",
    "price and EU GDP growth improves the accuracy significantly."
   ]
  },
  {
   "cell_type": "markdown",
   "metadata": {},
   "source": [
    "### Literature\n",
    "\n",
    "Longreads:\n",
    "\n",
    "- [FORECASTING ROMANIAN GDP USING\n",
    "A BVAR MODEL](http://mail.ipe.ro/rjef/rjef4_10/rjef4_10_6.pdf)"
   ]
  },
  {
   "cell_type": "code",
   "execution_count": null,
   "metadata": {},
   "outputs": [],
   "source": []
  }
 ],
 "metadata": {
  "kernelspec": {
   "display_name": "Python 3",
   "language": "python",
   "name": "python3"
  },
  "language_info": {
   "codemirror_mode": {
    "name": "ipython",
    "version": 3
   },
   "file_extension": ".py",
   "mimetype": "text/x-python",
   "name": "python",
   "nbconvert_exporter": "python",
   "pygments_lexer": "ipython3",
   "version": "3.6.5"
  }
 },
 "nbformat": 4,
 "nbformat_minor": 2
}
