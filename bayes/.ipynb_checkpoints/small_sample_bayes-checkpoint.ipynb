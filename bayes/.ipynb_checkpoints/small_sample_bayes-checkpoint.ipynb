{
 "cells": [
  {
   "cell_type": "markdown",
   "metadata": {},
   "source": [
    "### [Bayesian Methods for Small Population Analysis](https://sites.nationalacademies.org/cs/groups/dbassesite/documents/webpage/dbasse_184766.pdf)\n",
    "\n"
   ]
  },
  {
   "cell_type": "markdown",
   "metadata": {},
   "source": [
    "Seldom can inferences from small populations stand on their own, because estimates are unstable (have low precision). Therefore, modeling or other stabilization/(information enhancement) is\n",
    "necessary; strategies include:\n",
    "- Aggregation\n",
    "- Regression both within and across populations\n",
    "- Hierarchical (Bayesian/EB) modeling to ‘borrow information’ within and between data sources\n"
   ]
  },
  {
   "cell_type": "markdown",
   "metadata": {},
   "source": [
    "Stabilization/enrichment targets include,\n",
    "- Estimated regression slopes and residual variances\n",
    "- Small Area (Domain) estimates (SAEs)\n",
    "- Estimated SMRs and the challenges of low information\n",
    "- Survey weights (Gelman, 2007)"
   ]
  },
  {
   "cell_type": "markdown",
   "metadata": {},
   "source": [
    "#### Shrinkage can be controversial (Normand et al., 2016)\n",
    "- Direct estimates with greatest uncertainty are shrunken closest to the regression surface, potentially conferring undue benefits or punishments. \n",
    "- Especially troublesome when the model is mis-specified (always true!) and sample size is informative so that the degree of shrinkage is ‘connected at the hip’ to the underlying truth\n",
    "- Standard model fitting gives more weight to the stable units, consequently the units that ‘care about’ the regression model have less influence on it\n",
    "- Recent approaches increase the weights for the relatively unstable units, paying some variance, but improving estimation performance for mis-specified models (Chen et al., 2015; Jiang et al., 2011)"
   ]
  },
  {
   "cell_type": "markdown",
   "metadata": {},
   "source": [
    "#### Trading off Variance and Bias (for the linear model)\n",
    "\n",
    "Each with an underlying feature of interest ($θ_k$ ), $k$ units (individuals, clusters, regions, . . . ).\n",
    "\n",
    "\n",
    "A direct (unbiased) estimate of it ($Y_k$ ), with estimated variance ($\\hat{σ}_k^2$)\n",
    "\n",
    "\n",
    "Unit-specific attributes $X_k$  produce,\n",
    "$$ regression \\ prediction = \\hat{β}X_k \\\\\n",
    "residual = Y_k - \\hat{β}X_k  $$\n",
    "\n",
    "Inviting three choices for estimating the $θ_k$:\n",
    "- Direct: Use the $Y_k$ (unbiased, but possibly unstable)\n",
    "- Regression: Use the regression (stable, but possibly biased)\n",
    "- Middle ground: A weighted average of Regression and Direct\n",
    "\n",
    "$$ \\hat{θ}_k = regression \\ prediction + (1 − \\hat{B}_k ) * residual\n",
    "= \\hat{β}X_k   +  (1 − \\hat{B}_k )( Y_k - \\hat{β}X_k )$$\n",
    "\n",
    "$\\hat{B}_k = \\frac{\\hat{σ}_k^2}{\\hat{σ}_k^2 + \\hat{\\tau}^2} $,  $\\hat{\\tau}^2$ -  residual/unexplained variance, model lack of fit\n",
    "\n"
   ]
  },
  {
   "cell_type": "markdown",
   "metadata": {},
   "source": [
    "#### Stabilizing Variance Estimates\n",
    "\n",
    "The $\\hat{σ}_k^2$ come from a (Gamma) prior with,\n",
    "- Estimated mean $\\hat{m}^2$\n",
    "- Estimated effective sample size $\\hat{M}^2$\n",
    "The empirical Bayes estimates are,\n",
    "$$\\tilde{σ}_k^2 = \\hat{m} + (1 − B_k )(\\hat{σ}_k^2 - \\hat{m}) $$ \n",
    "\n",
    "$B_k = \\frac{\\hat{M} }{\\hat{M} + d_k }, \\tilde{d}_k \\approx B_kd_+ + (1 − B_k )d_k  $\n",
    "\n",
    "$d_k = n  − 2 $ - degrees of freedom\n",
    "\n",
    "\n",
    "The distribution of $\\tilde{σ}_k^2$ isn’t chi-square, but a fully Bayesian analysis (possibly via MCMC) produces the joint posterior distribution of the slopes and variances,\n",
    "and supports valid intervals and other inferences\n",
    "\n"
   ]
  },
  {
   "cell_type": "markdown",
   "metadata": {},
   "source": []
  },
  {
   "cell_type": "markdown",
   "metadata": {},
   "source": []
  },
  {
   "cell_type": "markdown",
   "metadata": {},
   "source": []
  },
  {
   "cell_type": "markdown",
   "metadata": {},
   "source": []
  }
 ],
 "metadata": {
  "kernelspec": {
   "display_name": "R",
   "language": "R",
   "name": "ir"
  },
  "language_info": {
   "codemirror_mode": "r",
   "file_extension": ".r",
   "mimetype": "text/x-r-source",
   "name": "R",
   "pygments_lexer": "r",
   "version": "3.5.1"
  }
 },
 "nbformat": 4,
 "nbformat_minor": 2
}
