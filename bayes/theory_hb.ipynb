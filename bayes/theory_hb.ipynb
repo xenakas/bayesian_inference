{
 "cells": [
  {
   "cell_type": "markdown",
   "metadata": {},
   "source": [
    "# [Hierarchical Bayes](https://www2.isye.gatech.edu/~brani/isyebayes/bank/handout8.pdf)"
   ]
  },
  {
   "cell_type": "markdown",
   "metadata": {},
   "source": [
    "- [R tools for Bayesian Statistics](https://www.kaggle.com/dhafer/r-tools-for-bayesian-statistics)\n",
    "\n",
    "\n",
    "\n",
    "- [Statistical Rethinking](https://xcelab.net/rm/statistical-rethinking/)\n",
    "- [ Basic time series modeling with Stan and Pystan ](https://github.com/jeffalstott/pystan_time_series)\n",
    "\n",
    "\n",
    "\n",
    "\n",
    "- [Shrinkage and Regularized Regression](https://jrnold.github.io/bayesian_notes/shrinkage-and-regularized-regression.html)\n",
    "- [Chapter 4 The James-Stein Estimator](https://bookdown.org/content/922/james-stein.html)\n",
    "- [Empirical Bayes and theJames–Stein Estimator](http://statweb.stanford.edu/~ckirby/brad/LSI/chapter1.pdf)\n",
    "\n",
    "PRACTICE\n",
    "\n",
    "- [hvar hierarchical time series stan](https://rpubs.com/jimsavage/hierarchical_var)\n",
    "- [Bayesian regression with STAN Part 2: Beyond normality](https://datascienceplus.com/bayesian-regression-with-stan-beyond-normality/)\n",
    "- [Bayesian modeling with R and Stan (3): Simple hierarchical Bayesian model ](https://tjo-en.hatenablog.com/entry/2015/08/04/190000)\n",
    "- [Bayesian modeling with R and Stan (4): Time series with a nonlinear trend ](https://tjo-en.hatenablog.com/entry/2015/08/18/120000)\n",
    "- [The best of both worlds: Hierarchical Linear Regression in PyMC3](https://twiecki.io/blog/2014/03/17/bayesian-glms-3/)\n",
    "- [Why hierarchical models are awesome, tricky, and Bayesian](https://twiecki.io/blog/2017/02/08/bayesian-hierchical-non-centered/)\n",
    "- [Time series analysis to predict future points on Stan](http://marubon-ds.blogspot.com/2017/12/time-series-analysis-to-predict-future.html)\n",
    "- [Hierarchical models with RStan (Part 1)](https://biologyforfun.wordpress.com/2016/11/10/hierarchical-models-with-rstan-part-1/)\n",
    "- [Hierarchical Bayesian model by Stan: Struggling](http://marubon-ds.blogspot.com/2017/10/hierarchical-bayesian-model-by-stan.html)\n",
    "- [A brief introduction to econometrics in Stan](https://khakieconomics.github.io/stanecon_short_course/Shortcourse.pdf)\n",
    "- [Crossed and Nested hierarchical models with STAN and R](https://www.r-bloggers.com/crossed-and-nested-hierarchical-models-with-stan-and-r/)\n",
    "- [Bayesian Hierarchical Models](https://static1.squarespace.com/static/53dc912de4b05be42a8acc61/t/53ddc610e4b0e8a580e87e6e/1407043088020/BayesRnD72514.pdf)\n",
    "- [STAN for linear mixed models](http://www.maths.bath.ac.uk/~jjf23/stan/)\n",
    "- [A Primer on Bayesian Multilevel Modeling using PyStan](https://mc-stan.org/users/documentation/case-studies/radon.html)\n",
    "- [Example of computation in R and Bugs](http://www.stat.columbia.edu/~gelman/bugsR/software.pdf)\n",
    "- [An Introduction toHierarchical BayesModeling in R](https://onlinelibrary.wiley.com/doi/pdf/10.1002/0470863692.app1)\n",
    "- [Hierarchical Bayes and Stan tutorial](https://medium.com/@nikhil_garg/hierarchical-bayes-and-stan-tutorial-example-7df7d4d5193)\n",
    "- [Running WinBugs and OpenBugs from R](http://www.stat.columbia.edu/~gelman/bugsR/runningbugs.html)\n",
    "\n",
    "\n",
    "THEORY\n",
    "\n",
    "- [Hierarchical models in Stan](https://astrostatistics.psu.edu/su14/lectures/Daniel-Lee-Stan-2.pdf)\n",
    "- [Effective Bayesian Modeling of Groups of Related Count Time Series](https://arxiv.org/pdf/1405.3738.pdf)\n",
    "- [Fitting Bayesian structural time series with the bsts R package](http://www.unofficialgoogledatascience.com/2017/07/fitting-bayesian-structural-time-series.html)\n",
    "- [Hierarchical Bayesian auto-regressive models for large spacetime data with applications to ozone concentration modelling](https://core.ac.uk/download/pdf/8748461.pdf)"
   ]
  },
  {
   "cell_type": "markdown",
   "metadata": {},
   "source": [
    "### Hierarchical Bayesian Analysis"
   ]
  },
  {
   "cell_type": "markdown",
   "metadata": {},
   "source": [
    "Hierarchical Bayesian Analysis is a convenient representation of a Bayesian model, in particular the prior\n",
    "$\\pi$, via a conditional hierarchy of so called hyper-priors $\\pi_1, \\dots, \\pi_{n+1}$,\n",
    "$$ \\pi(\\theta) = \\int \\pi_1(\\theta|\\theta_1) \\pi_2(\\theta_1|\\theta_2) \\dots  \\pi_n(\\theta_{n-1}|\\theta_n)\\pi_{n+1}(\\theta_n) d\\theta_1d\\theta_2 \\dots d\\theta_n$$ \n",
    "\n",
    "Operationally, the model: \n",
    "$$[x|\\theta] \\sim f(x|\\theta)$$ $$[\\theta|\\theta_1]  \\sim \\pi_1(\\theta|\\theta_1) $$ $$ [\\theta_{n−1}|\\theta_n]  \\sim \\pi_n(\\theta|\\theta_1)$$ $$ [\\theta_n] \\sim \\pi_{n+1}(\\theta_n)$$ \n",
    "is equivalent to the model\n",
    "$$[x|\\theta] \\sim f(x|\\theta), [\\theta] \\sim \\pi(\\theta)$$ \n",
    "as the inference on θ is concerned. \n",
    "\n",
    "Notice that in the hierarchy of data, parameters and hyperparameters,\n",
    "$X$ and $\\theta_i$ are independent, given $\\theta$: $ X \\to  \\theta \\to \\theta_1 \\to \\dots \\to \\theta_n$\n",
    "\n",
    "That means, $$[X|\\theta, \\theta_1, \\dots ] \\overset{\\mathrm{d}}{=}  [X|\\theta], [\\theta_i|\\theta, X] \\overset{\\mathrm{d}}{=} [\\theta_i\n",
    "|\\theta] $$ \n",
    "the joint distribution  which by definition is\n",
    "$$[X, \\theta, \\theta_1, \\dots, \\theta_n] = [X|\\theta, \\theta_1, \\dots, \\theta_n] [\\theta|\\theta_1, \\dots , \\theta_n] [\\theta_1|\\theta_2, \\dots, \\theta_n] \\dots [\\theta_{n−1}|\\theta_n] [\\theta_n] = [X|\\theta][\\theta|\\theta_1] [\\theta_1|\\theta_2] \\dots [\\theta_{n−1}|\\theta_n] [\\theta_n]$$\n",
    "thus, to fully specify the model, only “neighbouring” conditionals and\n",
    "the “closure” distribution $[\\theta_n]$ are needed."
   ]
  },
  {
   "cell_type": "markdown",
   "metadata": {},
   "source": [
    "Hierarchical Bayes and Empirical Bayes are related by their goals, but quite different by the methods of how\n",
    "these goals are achieved. The attribute hierarchical refers mostly to the modeling strategy, while empirical\n",
    "is referring to the methodology. Both methods are concerned in specifying the distribution at prior level, hierarchical via Bayes inference involving additional degrees of hierarchy (hyperpriors and hyperparameters),\n",
    "while empirical Bayes is using data more directly.\n",
    "\n",
    "Why then decompose the prior:\n",
    "- Modeling requirements may lead to the hierarchy in the prior. For example Bayesian models in meta\n",
    "analysis;\n",
    "- The prior information may be separated into the structural part and the subjective/noninformative part\n",
    "at higher level of hierarchy;\n",
    "- Robustness and objectiveness – “let the data talk about the hyperparameters;”\n",
    "- Calculational issues (utilizing hidden mixtures, mixture priors, missing data, MCMC format).\n",
    "\n",
    "Suppose the hierarchical model is given as $[X|θ] ∼ f(x|θ), [θ|θ_1] ∼ π_1(θ|θ_1)$, and $[θ_1] ∼ π_2(θ_1)$, then\n",
    "the pe posterior distribution can be written as\n",
    "$$π(θ|x) = \\int_{\\Theta_1} π(θ|x, θ_1)π(θ_1|x)dθ_1$$\n",
    "\n",
    "The densities under the integral are $π(θ|x, θ_1) = \\frac{f(x|θ)π_1(θ|θ_1)}{m_1(x|θ_1)}$, and $π(θ_1|x) = \\frac{m_1(x|θ_1)π_2(θ_1)}{m(x)}$, where\n",
    "$m_1(x|θ_1) = \\int_\\Theta f(x|θ)π_1(θ|θ_1)dθ$ is the marginal likelihood, and $m(x) = \\int_{\\Theta_1} m_1(x|θ_1)π_2(θ_1)dθ_1$\n",
    "marginal.\n",
    "\n",
    "Now, for any function of the parameter $h$,\n",
    "$$E^{θ|x}h(θ) = E^{θ_1|x}[E^{θ|θ_1,x}h(θ)]$$. "
   ]
  },
  {
   "cell_type": "markdown",
   "metadata": {},
   "source": [
    "\n",
    "Sometimes it is not calculatingly feasible to carry out the analysis by reducing the sequence of hyperpriors to a single prior.\n",
    "\n",
    "Rather, Bayes rule is obtained (by using [Fubini’s theorem](http://ru.math.wikia.com/wiki/%D0%A2%D0%B5%D0%BE%D1%80%D0%B5%D0%BC%D0%B0_%D0%A2%D0%BE%D0%BD%D0%B5%D0%BB%D0%BB%D0%B8_%E2%80%94_%D0%A4%D1%83%D0%B1%D0%B8%D0%BD%D0%B8)) as repeated integral with respect to more\n",
    "convenient conditional distributions. "
   ]
  },
  {
   "cell_type": "markdown",
   "metadata": {},
   "source": [
    "## Hierarchical and empirical Bayesian methods\n",
    "\n",
    "https://www.ics.uci.edu/~sternh/courses/225/slides2new.pdf\n",
    "\n",
    "+\n",
    "\n",
    "https://www.cs.princeton.edu/courses/archive/fall11/cos597C/lectures/hierarchical-models.pdf\n",
    "\n",
    "For simulation in [hierarchical models](http://www.stats.ox.ac.uk/~reinert/stattheory/chapter1107.pdf): we simulate first from β,\n",
    "then, given β, we simulate from θ. We hope that the distribution of\n",
    "β is easy to simulate, and also that the conditional distribution of θ\n",
    "given β is easy to simulate. This approach is particularly useful for\n",
    "MCMC (Markov chain Monte Carlo) methods, e.g.: see next term"
   ]
  },
  {
   "cell_type": "code",
   "execution_count": null,
   "metadata": {},
   "outputs": [],
   "source": []
  },
  {
   "cell_type": "markdown",
   "metadata": {},
   "source": [
    "http://www.stat.columbia.edu/~gelman/research/published/taumain.pdf\n",
    "\n",
    "https://pdfs.semanticscholar.org/bc59/3aae11890468c5d6c1a7610ddd928236ffa7.pdf"
   ]
  },
  {
   "cell_type": "code",
   "execution_count": null,
   "metadata": {},
   "outputs": [],
   "source": []
  }
 ],
 "metadata": {
  "kernelspec": {
   "display_name": "Python 3",
   "language": "python",
   "name": "python3"
  },
  "language_info": {
   "codemirror_mode": {
    "name": "ipython",
    "version": 3
   },
   "file_extension": ".py",
   "mimetype": "text/x-python",
   "name": "python",
   "nbconvert_exporter": "python",
   "pygments_lexer": "ipython3",
   "version": "3.6.5"
  }
 },
 "nbformat": 4,
 "nbformat_minor": 2
}
