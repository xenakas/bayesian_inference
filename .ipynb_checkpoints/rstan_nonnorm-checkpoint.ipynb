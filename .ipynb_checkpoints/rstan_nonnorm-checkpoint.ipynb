{
 "cells": [
  {
   "cell_type": "markdown",
   "metadata": {},
   "source": [
    "### [Bayesian regression with STAN Part 2: Beyond normality](https://datascienceplus.com/bayesian-regression-with-stan-beyond-normality/)"
   ]
  },
  {
   "cell_type": "code",
   "execution_count": 1,
   "metadata": {
    "scrolled": true
   },
   "outputs": [
    {
     "name": "stderr",
     "output_type": "stream",
     "text": [
      "Loading required package: MASS\n",
      "Loading required package: Matrix\n",
      "Loading required package: lme4\n",
      "\n",
      "arm (Version 1.10-1, built: 2018-4-12)\n",
      "\n",
      "Working directory is /home/xenakas/Desktop/Git/bayesian_inference\n",
      "\n",
      "Loading required package: ggplot2\n",
      "Loading required package: StanHeaders\n",
      "rstan (Version 2.18.2, GitRev: 2e1f913d3ca3)\n",
      "For execution on a local, multicore CPU with excess RAM we recommend calling\n",
      "options(mc.cores = parallel::detectCores()).\n",
      "To avoid recompilation of unchanged Stan programs, we recommend calling\n",
      "rstan_options(auto_write = TRUE)\n",
      "\n",
      "Attaching package: ‘rstan’\n",
      "\n",
      "The following object is masked from ‘package:arm’:\n",
      "\n",
      "    traceplot\n",
      "\n",
      "Loading required package: Rcpp\n",
      "rstanarm (Version 2.18.2, packaged: 2018-11-08 22:19:38 UTC)\n",
      "- Do not expect the default priors to remain the same in future rstanarm versions.\n",
      "Thus, R scripts should specify priors explicitly, even if they are just the defaults.\n",
      "- For execution on a local, multicore CPU with excess RAM we recommend calling\n",
      "options(mc.cores = parallel::detectCores())\n",
      "- Plotting theme set to bayesplot::theme_default().\n",
      "\n",
      "Attaching package: ‘rstanarm’\n",
      "\n",
      "The following object is masked from ‘package:rstan’:\n",
      "\n",
      "    loo\n",
      "\n"
     ]
    }
   ],
   "source": [
    "#load the libraries\n",
    "library(arm) #for the invlogit function\n",
    "library(emdbook) #for the rbetabinom function\n",
    "library(rstan)\n",
    "library(rstanarm) #for the launch_shinystan function"
   ]
  },
  {
   "cell_type": "code",
   "execution_count": 2,
   "metadata": {},
   "outputs": [],
   "source": [
    "#the location of the model files\n",
    "setwd(\"/home/xenakas/Desktop/Git/bayesian_inference/STAN\")"
   ]
  },
  {
   "cell_type": "code",
   "execution_count": 3,
   "metadata": {},
   "outputs": [
    {
     "data": {
      "text/html": [
       "12"
      ],
      "text/latex": [
       "12"
      ],
      "text/markdown": [
       "12"
      ],
      "text/plain": [
       "[1] 12"
      ]
     },
     "metadata": {},
     "output_type": "display_data"
    }
   ],
   "source": [
    "parallel::detectCores()"
   ]
  },
  {
   "cell_type": "code",
   "execution_count": 4,
   "metadata": {},
   "outputs": [],
   "source": [
    "options(mc.cores = 8)"
   ]
  },
  {
   "cell_type": "code",
   "execution_count": 5,
   "metadata": {},
   "outputs": [
    {
     "data": {
      "text/html": [
       "8"
      ],
      "text/latex": [
       "8"
      ],
      "text/markdown": [
       "8"
      ],
      "text/plain": [
       "[1] 8"
      ]
     },
     "metadata": {},
     "output_type": "display_data"
    }
   ],
   "source": [
    "getOption(\"mc.cores\") "
   ]
  },
  {
   "cell_type": "markdown",
   "metadata": {},
   "source": [
    "#### Negative Binomial"
   ]
  },
  {
   "cell_type": "code",
   "execution_count": 6,
   "metadata": {},
   "outputs": [],
   "source": [
    "#simulate some negative binomial data\n",
    "#the explanatory variables\n",
    "N<-100 #sample size\n",
    "dat<-data.frame(x1=runif(N,-2,2),x2=runif(N,-2,2))\n",
    "#the model\n",
    "X<-model.matrix(~x1*x2,dat)\n",
    "K<-dim(X)[2] #number of regression params\n",
    "#the regression slopes\n",
    "betas<-runif(K,-1,1)\n",
    "#the overdispersion for the simulated data\n",
    "phi<-5\n",
    "#simulate the response\n",
    "y_nb<-rnbinom(100,size=phi,mu=exp(X%*%betas))"
   ]
  },
  {
   "cell_type": "code",
   "execution_count": 7,
   "metadata": {},
   "outputs": [
    {
     "name": "stdout",
     "output_type": "stream",
     "text": [
      "DIAGNOSTIC(S) FROM PARSER:\n",
      "Info (non-fatal): assignment operator <- deprecated in the Stan language; use = instead.\n",
      "Info (non-fatal): assignment operator <- deprecated in the Stan language; use = instead.\n",
      "\n"
     ]
    },
    {
     "name": "stderr",
     "output_type": "stream",
     "text": [
      "Warning message:\n",
      "“There were 38 divergent transitions after warmup. Increasing adapt_delta above 0.8 may help. See\n",
      "http://mc-stan.org/misc/warnings.html#divergent-transitions-after-warmup”Warning message:\n",
      "“Examine the pairs() plot to diagnose sampling problems\n",
      "”"
     ]
    }
   ],
   "source": [
    "#fit the model\n",
    "m_nb<-stan(file = \"neg_bin.stan\",data = list(N=N,K=K,X=X,y=y_nb),pars=c(\"beta\",\"phi\",\"y_rep\"))"
   ]
  },
  {
   "cell_type": "code",
   "execution_count": 9,
   "metadata": {},
   "outputs": [
    {
     "name": "stderr",
     "output_type": "stream",
     "text": [
      "\n",
      "Launching ShinyStan interface... for large models this  may take some time.\n",
      "\n",
      "Listening on http://127.0.0.1:6702\n",
      "Warning message:\n",
      "“Error in eval: object 'ymin' not found”"
     ]
    }
   ],
   "source": [
    "#diagnose and explore the model using shinystan\n",
    "launch_shinystan(m_nb)"
   ]
  },
  {
   "cell_type": "code",
   "execution_count": 19,
   "metadata": {},
   "outputs": [
    {
     "data": {
      "image/png": "[encoded data removed]",
      "text/plain": [
       "plot without title"
      ]
     },
     "metadata": {},
     "output_type": "display_data"
    }
   ],
   "source": [
    "#get the posterior predicted values together with the credible intervals \n",
    "post<-as.array(m_nb) #the sampled model values\n",
    "#will look at varying x2 with 3 values of x1\n",
    "new_X<-model.matrix(~x1*x2,expand.grid(x2=seq(-2,2,length=10),x1=c(min(dat$x1),mean(dat$x1),max(dat$x1))))\n",
    "#get the predicted values for each samples\n",
    "pred<-apply(post[,,1:4],c(1,2),FUN = function(x) new_X%*%x)\n",
    "#each chains is in a different matrix re-group the info into one matrix\n",
    "dim(pred)<-c(30,4000)\n",
    "#get the median prediction plus 95% credible intervals\n",
    "pred_int<-apply(pred,1,quantile,probs=c(0.025,0.5,0.975))\n",
    "\n",
    "#plot\n",
    "plot(dat$x2,y_nb,pch=16)\n",
    "lines(new_X[1:10,3],exp(pred_int[2,1:10]),col=\"orange\",lwd=5)\n",
    "lines(new_X[1:10,3],exp(pred_int[1,1:10]),col=\"orange\",lwd=3,lty=2)\n",
    "lines(new_X[1:10,3],exp(pred_int[3,1:10]),col=\"orange\",lwd=3,lty=2)\n",
    "lines(new_X[1:10,3],exp(pred_int[2,11:20]),col=\"red\",lwd=5)\n",
    "lines(new_X[1:10,3],exp(pred_int[1,11:20]),col=\"red\",lwd=3,lty=2)\n",
    "lines(new_X[1:10,3],exp(pred_int[3,11:20]),col=\"red\",lwd=3,lty=2)\n",
    "lines(new_X[1:10,3],exp(pred_int[2,21:30]),col=\"blue\",lwd=5)\n",
    "lines(new_X[1:10,3],exp(pred_int[1,21:30]),col=\"blue\",lwd=3,lty=2)\n",
    "lines(new_X[1:10,3],exp(pred_int[3,21:30]),col=\"blue\",lwd=3,lty=2)\n",
    "legend(\"topleft\",legend=c(\"Min\",\"Mean\",\"Max\"),ncol=3,col = c(\"orange\",\"red\",\"blue\"),lwd = 3,bty=\"n\",title=\"Value of x1\")"
   ]
  },
  {
   "cell_type": "code",
   "execution_count": 20,
   "metadata": {},
   "outputs": [
    {
     "name": "stdout",
     "output_type": "stream",
     "text": [
      "DIAGNOSTIC(S) FROM PARSER:\n",
      "Info (non-fatal): assignment operator <- deprecated in the Stan language; use = instead.\n",
      "Info (non-fatal): assignment operator <- deprecated in the Stan language; use = instead.\n",
      "Info (non-fatal): assignment operator <- deprecated in the Stan language; use = instead.\n",
      "Info (non-fatal): assignment operator <- deprecated in the Stan language; use = instead.\n",
      "\n"
     ]
    },
    {
     "name": "stderr",
     "output_type": "stream",
     "text": [
      "\n",
      "Launching ShinyStan interface... for large models this  may take some time.\n",
      "\n",
      "Listening on http://127.0.0.1:4928\n"
     ]
    }
   ],
   "source": [
    "#simulate gamma data\n",
    "mus<-exp(X%*%betas)\n",
    "y_g<-rgamma(100,shape=mus**2/phi,rate=mus/phi)\n",
    "\n",
    "#model\n",
    "m_g<-stan(file = \"gamma.stan\",data = list(N=N,K=K,X=X,y=y_g),pars=c(\"betas\",\"phi\",\"y_rep\"))\n",
    "\n",
    "#model check\n",
    "launch_shinystan(m_g)"
   ]
  },
  {
   "cell_type": "code",
   "execution_count": null,
   "metadata": {},
   "outputs": [],
   "source": [
    "#simulate beta-binomial data\n",
    "W<-rep(20,100) #number of trials\n",
    "y_bb<-rbetabinom(100,prob=invlogit(X%*%betas),size=W,theta=phi)\n",
    "\n",
    "#model\n",
    "m_bb<-stan(file = \"beta_bin.stan\",data = list(N=N,W=W,K=K,X=X,y=y_bb),pars=c(\"betas\",\"phi\",\"y_rep\"))\n",
    "\n",
    "#model check\n",
    "launch_shinystan(m_bb)"
   ]
  },
  {
   "cell_type": "code",
   "execution_count": null,
   "metadata": {},
   "outputs": [],
   "source": [
    "#get the posterior predicted values together with the credible intervals \n",
    "post<-as.array(m_bb) #the posterior draw\n",
    "#get the predicted values\n",
    "pred<-apply(post[,,1:4],c(1,2),FUN = function(x) new_X%*%x)\n",
    "#each chains is in a different matrix re-group the info\n",
    "dim(pred)<-c(30,4000)\n",
    "#get the median prediction plus 95% credible intervals\n",
    "pred_int<-apply(pred,1,quantile,probs=c(0.025,0.5,0.975))\n",
    "\n",
    "#plot\n",
    "plot(dat$x2,y_bb,pch=16)\n",
    "lines(new_X[1:10,3],20*invlogit(pred_int[2,1:10]),col=\"orange\",lwd=5)\n",
    "lines(new_X[1:10,3],20*invlogit(pred_int[1,1:10]),col=\"orange\",lwd=3,lty=2)\n",
    "lines(new_X[1:10,3],20*invlogit(pred_int[3,1:10]),col=\"orange\",lwd=3,lty=2)\n",
    "lines(new_X[1:10,3],20*invlogit(pred_int[2,11:20]),col=\"red\",lwd=5)\n",
    "lines(new_X[1:10,3],20*invlogit(pred_int[1,11:20]),col=\"red\",lwd=3,lty=2)\n",
    "lines(new_X[1:10,3],20*invlogit(pred_int[3,11:20]),col=\"red\",lwd=3,lty=2)\n",
    "lines(new_X[1:10,3],20*invlogit(pred_int[2,21:30]),col=\"blue\",lwd=5)\n",
    "lines(new_X[1:10,3],20*invlogit(pred_int[1,21:30]),col=\"blue\",lwd=3,lty=2)\n",
    "lines(new_X[1:10,3],20*invlogit(pred_int[3,21:30]),col=\"blue\",lwd=3,lty=2)\n",
    "legend(\"topleft\",legend=c(\"Min\",\"Mean\",\"Max\"),ncol=3,col = c(\"orange\",\"red\",\"blue\"),lwd = 3,bty=\"n\",title=\"Value of x1\")"
   ]
  },
  {
   "cell_type": "code",
   "execution_count": null,
   "metadata": {},
   "outputs": [],
   "source": []
  }
 ],
 "metadata": {
  "kernelspec": {
   "display_name": "R 3.5.1",
   "language": "R",
   "name": "ir"
  },
  "language_info": {
   "codemirror_mode": "r",
   "file_extension": ".r",
   "mimetype": "text/x-r-source",
   "name": "R",
   "pygments_lexer": "r",
   "version": "3.5.2"
  }
 },
 "nbformat": 4,
 "nbformat_minor": 2
}
