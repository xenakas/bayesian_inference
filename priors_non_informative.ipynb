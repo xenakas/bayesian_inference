{
 "cells": [
  {
   "cell_type": "markdown",
   "metadata": {},
   "source": [
    "### Noninformative prior distributions"
   ]
  },
  {
   "cell_type": "markdown",
   "metadata": {},
   "source": [
    "Noninformative prior distributions are intended to allow Bayesian inference for\n",
    "parameters about which not much is known beyond the data included in the analysis at hand. Various justifications and interpretations of noninformative priors\n",
    "have been proposed over the years, including invariance, maximum entropy, and\n",
    "agreement with classical estimators. In our work, we consider noninformative prior\n",
    "distributions to be “reference models” to be used as a standard of comparison or\n",
    "starting point in place of the proper, informative prior distributions that would be\n",
    "appropriate for a full Bayesian analysis.\n",
    "\n",
    "\n",
    "We view any noninformative prior distribution as inherently provisional—after\n",
    "the model has been fit, one should look at the posterior distribution and see if it\n",
    "makes sense. If the posterior distribution does not make sense, this implies that\n",
    "additional prior knowledge is available that has not been included in the model,\n",
    "and that contradicts the assumptions of the prior distribution (or some other part\n",
    "of the model) that has been used. It is then appropriate to go back and alter the\n",
    "model to be more consistent with this external knowledge."
   ]
  },
  {
   "cell_type": "code",
   "execution_count": null,
   "metadata": {},
   "outputs": [],
   "source": []
  }
 ],
 "metadata": {
  "kernelspec": {
   "display_name": "Python 3",
   "language": "python",
   "name": "python3"
  },
  "language_info": {
   "codemirror_mode": {
    "name": "ipython",
    "version": 3
   },
   "file_extension": ".py",
   "mimetype": "text/x-python",
   "name": "python",
   "nbconvert_exporter": "python",
   "pygments_lexer": "ipython3",
   "version": "3.6.5"
  }
 },
 "nbformat": 4,
 "nbformat_minor": 2
}
