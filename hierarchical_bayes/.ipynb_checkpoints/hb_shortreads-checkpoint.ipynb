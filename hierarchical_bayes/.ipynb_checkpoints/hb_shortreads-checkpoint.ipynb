{
 "cells": [
  {
   "cell_type": "markdown",
   "metadata": {},
   "source": [
    "# Hierarchical Bayes\n",
    "\n",
    "## Hierarchical and empirical Bayesian methods\n",
    "\n",
    "https://www.ics.uci.edu/~sternh/courses/225/slides2new.pdf\n",
    "\n",
    "+\n",
    "\n",
    "https://www.cs.princeton.edu/courses/archive/fall11/cos597C/lectures/hierarchical-models.pdf\n",
    "\n",
    "For simulation in [hierarchical models](http://www.stats.ox.ac.uk/~reinert/stattheory/chapter1107.pdf): we simulate first from β,\n",
    "then, given β, we simulate from θ. We hope that the distribution of\n",
    "β is easy to simulate, and also that the conditional distribution of θ\n",
    "given β is easy to simulate. This approach is particularly useful for\n",
    "MCMC (Markov chain Monte Carlo) methods, e.g.: see next term"
   ]
  },
  {
   "cell_type": "markdown",
   "metadata": {},
   "source": [
    "http://www.stat.columbia.edu/~gelman/research/published/taumain.pdf\n",
    "\n",
    "https://pdfs.semanticscholar.org/bc59/3aae11890468c5d6c1a7610ddd928236ffa7.pdf"
   ]
  },
  {
   "cell_type": "code",
   "execution_count": null,
   "metadata": {},
   "outputs": [],
   "source": []
  }
 ],
 "metadata": {
  "kernelspec": {
   "display_name": "Python 3",
   "language": "python",
   "name": "python3"
  },
  "language_info": {
   "codemirror_mode": {
    "name": "ipython",
    "version": 3
   },
   "file_extension": ".py",
   "mimetype": "text/x-python",
   "name": "python",
   "nbconvert_exporter": "python",
   "pygments_lexer": "ipython3",
   "version": "3.6.5"
  }
 },
 "nbformat": 4,
 "nbformat_minor": 2
}
