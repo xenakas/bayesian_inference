{
 "cells": [
  {
   "cell_type": "markdown",
   "metadata": {},
   "source": [
    "### [Hierarchical AR(K) Models](https://discourse.mc-stan.org/t/hierarchical-ar-k-models/781)"
   ]
  },
  {
   "cell_type": "code",
   "execution_count": 1,
   "metadata": {},
   "outputs": [
    {
     "name": "stderr",
     "output_type": "stream",
     "text": [
      "Loading required package: ggplot2\n",
      "Loading required package: StanHeaders\n",
      "rstan (Version 2.18.2, GitRev: 2e1f913d3ca3)\n",
      "For execution on a local, multicore CPU with excess RAM we recommend calling\n",
      "options(mc.cores = parallel::detectCores()).\n",
      "To avoid recompilation of unchanged Stan programs, we recommend calling\n",
      "rstan_options(auto_write = TRUE)\n",
      "\n",
      "Attaching package: ‘coda’\n",
      "\n",
      "The following object is masked from ‘package:rstan’:\n",
      "\n",
      "    traceplot\n",
      "\n",
      "\n",
      "Attaching package: ‘dplyr’\n",
      "\n",
      "The following objects are masked from ‘package:stats’:\n",
      "\n",
      "    filter, lag\n",
      "\n",
      "The following objects are masked from ‘package:base’:\n",
      "\n",
      "    intersect, setdiff, setequal, union\n",
      "\n"
     ]
    }
   ],
   "source": [
    "#load libraries\n",
    "library(rstan)\n",
    "library(coda)\n",
    "library(dplyr)"
   ]
  },
  {
   "cell_type": "markdown",
   "metadata": {},
   "source": [
    "```r\n",
    "data {\n",
    "  int<lower=1> N; // total number of observations\n",
    "  int<lower=1> K; // number of lagged factor\n",
    "  int<lower=1> numG; // number of groups\n",
    "  vector[N] y; // data for Hierarchical AR(K)\n",
    "  int sizes[numG]; // sizes of observations across groups\n",
    "}\n",
    "parameters {\n",
    "  real<lower = 0> local_sigma; \n",
    "  vector<lower = 0>[K] global_sigma;\n",
    "  vector[K] z[numG];\n",
    "  vector<lower = -2, upper = 2>[K] global_beta; // global AR(K) multipliers\n",
    "}\n",
    "transformed parameters {\n",
    "  vector[K] group_betas[numG]; // group level AR(K) multipliers\n",
    "  for(i in 1:numG) {\n",
    "    group_betas[i] = global_beta + global_sigma .* z[i]; // NCP formulation, no correlations\n",
    "  }\n",
    "}\n",
    "model {\n",
    "  int pos;\n",
    "  pos = 1;\n",
    "  for(i in 1:numG) {  // loop over groups\n",
    "    int local_N;\n",
    "    vector[sizes[i]] local_y;\n",
    "    local_N = sizes[i];\n",
    "    local_y = segment(y, pos, local_N);\n",
    "    for (n in (K + 1):local_N) { // loop over observations\n",
    "      real mu;\n",
    "      mu = 0;\n",
    "      for (k in 1:K) { // loop over lags\n",
    "        mu = mu + group_betas[i][k] * local_y[n - k];\n",
    "      }\n",
    "      y[n] ~ normal(mu, local_sigma);\n",
    "    }\n",
    "    z[i] ~ normal(0, 1);\n",
    "    pos = pos + local_N;\n",
    "  }\n",
    "  \n",
    "  // hyperpriors\n",
    "  local_sigma ~ cauchy(0, 2);\n",
    "  global_sigma ~ cauchy(0, 2);\n",
    "  global_beta ~ cauchy(0, 2);\n",
    "}\n",
    "```"
   ]
  },
  {
   "cell_type": "code",
   "execution_count": 30,
   "metadata": {},
   "outputs": [],
   "source": [
    "df_eu  <-  read.csv(file=\"../disaggregated_ts/hts_eu_a10.csv\", header=TRUE, sep=\",\", row.names =1 )\n",
    "df_eu  <-  df_eu[ , order(names(df_eu))]\n",
    "dat  <-  df_eu[,1:30]"
   ]
  },
  {
   "cell_type": "code",
   "execution_count": 47,
   "metadata": {},
   "outputs": [
    {
     "data": {
      "text/html": [
       "<ol class=list-inline>\n",
       "\t<li>75</li>\n",
       "\t<li>30</li>\n",
       "</ol>\n"
      ],
      "text/latex": [
       "\\begin{enumerate*}\n",
       "\\item 75\n",
       "\\item 30\n",
       "\\end{enumerate*}\n"
      ],
      "text/markdown": [
       "1. 75\n",
       "2. 30\n",
       "\n",
       "\n"
      ],
      "text/plain": [
       "[1] 75 30"
      ]
     },
     "metadata": {},
     "output_type": "display_data"
    }
   ],
   "source": [
    "dim(dat)"
   ]
  },
  {
   "cell_type": "code",
   "execution_count": 44,
   "metadata": {},
   "outputs": [
    {
     "name": "stdout",
     "output_type": "stream",
     "text": [
      "ATA + lag( ATA ) + ATB + lag( ATB ) + ATF + lag( ATF ) + ATG + lag( ATG ) + ATJ + lag( ATJ ) + ATK + lag( ATK ) + ATL + lag( ATL ) + ATM + lag( ATM ) + ATO + lag( ATO ) + ATR + lag( ATR ) + BEA + lag( BEA ) + BEB + lag( BEB ) + BEF + lag( BEF ) + BEG + lag( BEG ) + BEJ + lag( BEJ ) + BEK + lag( BEK ) + BEL + lag( BEL ) + BEM + lag( BEM ) + BEO + lag( BEO ) + BER + lag( BER ) + BGA + lag( BGA ) + BGB + lag( BGB ) + BGF + lag( BGF ) + BGG + lag( BGG ) + BGJ + lag( BGJ ) + BGK + lag( BGK ) + BGL + lag( BGL ) + BGM + lag( BGM ) + BGO + lag( BGO ) + BGR + lag( BGR ) + "
     ]
    }
   ],
   "source": [
    "for (i in colnames(dat)){\n",
    "    cat(i, '+', 'lag(',i,') + ')}"
   ]
  },
  {
   "cell_type": "code",
   "execution_count": 45,
   "metadata": {},
   "outputs": [
    {
     "data": {
      "text/html": [
       "<table>\n",
       "<thead><tr><th></th><th scope=col>(Intercept)</th><th scope=col>ATA</th><th scope=col>lag(ATA)</th><th scope=col>ATB</th><th scope=col>lag(ATB)</th><th scope=col>ATF</th><th scope=col>lag(ATF)</th><th scope=col>ATG</th><th scope=col>lag(ATG)</th><th scope=col>ATJ</th><th scope=col>⋯</th><th scope=col>BGK</th><th scope=col>lag(BGK)</th><th scope=col>BGL</th><th scope=col>lag(BGL)</th><th scope=col>BGM</th><th scope=col>lag(BGM)</th><th scope=col>BGO</th><th scope=col>lag(BGO)</th><th scope=col>BGR</th><th scope=col>lag(BGR)</th></tr></thead>\n",
       "<tbody>\n",
       "\t<tr><th scope=row>2000-04-01</th><td>1       </td><td> 965.10 </td><td> 831.80 </td><td>11447.50</td><td>11055.15</td><td>3603.20 </td><td>3068.05 </td><td>10724.70</td><td>10558.90</td><td>1523.85 </td><td>⋯       </td><td> 69.95  </td><td>70.25   </td><td>357.35  </td><td>334.70  </td><td>129.65  </td><td>104.45  </td><td>493.50  </td><td>493.65  </td><td>67.00   </td><td>63.70   </td></tr>\n",
       "\t<tr><th scope=row>2000-07-01</th><td>1       </td><td> 883.70 </td><td> 965.10 </td><td>11531.30</td><td>11447.50</td><td>3705.15 </td><td>3603.20 </td><td>10927.95</td><td>10724.70</td><td>1541.60 </td><td>⋯       </td><td> 77.05  </td><td>69.95   </td><td>364.45  </td><td>357.35  </td><td>147.05  </td><td>129.65  </td><td>528.00  </td><td>493.50  </td><td>63.75   </td><td>67.00   </td></tr>\n",
       "\t<tr><th scope=row>2000-10-01</th><td>1       </td><td> 846.95 </td><td> 883.70 </td><td>12257.60</td><td>11531.30</td><td>3941.00 </td><td>3705.15 </td><td>11148.90</td><td>10927.95</td><td>1658.85 </td><td>⋯       </td><td> 82.60  </td><td>77.05   </td><td>396.10  </td><td>364.45  </td><td>160.15  </td><td>147.05  </td><td>632.15  </td><td>528.00  </td><td>77.10   </td><td>63.75   </td></tr>\n",
       "\t<tr><th scope=row>2001-01-01</th><td>1       </td><td> 883.40 </td><td> 846.95 </td><td>12011.20</td><td>12257.60</td><td>3046.85 </td><td>3941.00 </td><td>11107.70</td><td>11148.90</td><td>1724.85 </td><td>⋯       </td><td> 83.85  </td><td>82.60   </td><td>418.30  </td><td>396.10  </td><td>117.65  </td><td>160.15  </td><td>512.20  </td><td>632.15  </td><td>61.10   </td><td>77.10   </td></tr>\n",
       "\t<tr><th scope=row>2001-04-01</th><td>1       </td><td>1064.60 </td><td> 883.40 </td><td>12075.80</td><td>12011.20</td><td>3491.15 </td><td>3046.85 </td><td>10965.85</td><td>11107.70</td><td>1763.55 </td><td>⋯       </td><td> 93.45  </td><td>83.85   </td><td>318.05  </td><td>418.30  </td><td>132.25  </td><td>117.65  </td><td>532.40  </td><td>512.20  </td><td>65.55   </td><td>61.10   </td></tr>\n",
       "\t<tr><th scope=row>2001-07-01</th><td>1       </td><td> 917.45 </td><td>1064.60 </td><td>11993.55</td><td>12075.80</td><td>3698.35 </td><td>3491.15 </td><td>11059.70</td><td>10965.85</td><td>1836.95 </td><td>⋯       </td><td>105.40  </td><td>93.45   </td><td>374.60  </td><td>318.05  </td><td>181.80  </td><td>132.25  </td><td>525.15  </td><td>532.40  </td><td>58.95   </td><td>65.55   </td></tr>\n",
       "</tbody>\n",
       "</table>\n"
      ],
      "text/latex": [
       "\\begin{tabular}{r|lllllllllllllllllllllllllllllllllllllllllllllllllllllllllllll}\n",
       "  & (Intercept) & ATA & lag(ATA) & ATB & lag(ATB) & ATF & lag(ATF) & ATG & lag(ATG) & ATJ & ⋯ & BGK & lag(BGK) & BGL & lag(BGL) & BGM & lag(BGM) & BGO & lag(BGO) & BGR & lag(BGR)\\\\\n",
       "\\hline\n",
       "\t2000-04-01 & 1        &  965.10  &  831.80  & 11447.50 & 11055.15 & 3603.20  & 3068.05  & 10724.70 & 10558.90 & 1523.85  & ⋯        &  69.95   & 70.25    & 357.35   & 334.70   & 129.65   & 104.45   & 493.50   & 493.65   & 67.00    & 63.70   \\\\\n",
       "\t2000-07-01 & 1        &  883.70  &  965.10  & 11531.30 & 11447.50 & 3705.15  & 3603.20  & 10927.95 & 10724.70 & 1541.60  & ⋯        &  77.05   & 69.95    & 364.45   & 357.35   & 147.05   & 129.65   & 528.00   & 493.50   & 63.75    & 67.00   \\\\\n",
       "\t2000-10-01 & 1        &  846.95  &  883.70  & 12257.60 & 11531.30 & 3941.00  & 3705.15  & 11148.90 & 10927.95 & 1658.85  & ⋯        &  82.60   & 77.05    & 396.10   & 364.45   & 160.15   & 147.05   & 632.15   & 528.00   & 77.10    & 63.75   \\\\\n",
       "\t2001-01-01 & 1        &  883.40  &  846.95  & 12011.20 & 12257.60 & 3046.85  & 3941.00  & 11107.70 & 11148.90 & 1724.85  & ⋯        &  83.85   & 82.60    & 418.30   & 396.10   & 117.65   & 160.15   & 512.20   & 632.15   & 61.10    & 77.10   \\\\\n",
       "\t2001-04-01 & 1        & 1064.60  &  883.40  & 12075.80 & 12011.20 & 3491.15  & 3046.85  & 10965.85 & 11107.70 & 1763.55  & ⋯        &  93.45   & 83.85    & 318.05   & 418.30   & 132.25   & 117.65   & 532.40   & 512.20   & 65.55    & 61.10   \\\\\n",
       "\t2001-07-01 & 1        &  917.45  & 1064.60  & 11993.55 & 12075.80 & 3698.35  & 3491.15  & 11059.70 & 10965.85 & 1836.95  & ⋯        & 105.40   & 93.45    & 374.60   & 318.05   & 181.80   & 132.25   & 525.15   & 532.40   & 58.95    & 65.55   \\\\\n",
       "\\end{tabular}\n"
      ],
      "text/markdown": [
       "\n",
       "| <!--/--> | (Intercept) | ATA | lag(ATA) | ATB | lag(ATB) | ATF | lag(ATF) | ATG | lag(ATG) | ATJ | ⋯ | BGK | lag(BGK) | BGL | lag(BGL) | BGM | lag(BGM) | BGO | lag(BGO) | BGR | lag(BGR) | \n",
       "|---|---|---|---|---|---|\n",
       "| 2000-04-01 | 1        |  965.10  |  831.80  | 11447.50 | 11055.15 | 3603.20  | 3068.05  | 10724.70 | 10558.90 | 1523.85  | ⋯        |  69.95   | 70.25    | 357.35   | 334.70   | 129.65   | 104.45   | 493.50   | 493.65   | 67.00    | 63.70    | \n",
       "| 2000-07-01 | 1        |  883.70  |  965.10  | 11531.30 | 11447.50 | 3705.15  | 3603.20  | 10927.95 | 10724.70 | 1541.60  | ⋯        |  77.05   | 69.95    | 364.45   | 357.35   | 147.05   | 129.65   | 528.00   | 493.50   | 63.75    | 67.00    | \n",
       "| 2000-10-01 | 1        |  846.95  |  883.70  | 12257.60 | 11531.30 | 3941.00  | 3705.15  | 11148.90 | 10927.95 | 1658.85  | ⋯        |  82.60   | 77.05    | 396.10   | 364.45   | 160.15   | 147.05   | 632.15   | 528.00   | 77.10    | 63.75    | \n",
       "| 2001-01-01 | 1        |  883.40  |  846.95  | 12011.20 | 12257.60 | 3046.85  | 3941.00  | 11107.70 | 11148.90 | 1724.85  | ⋯        |  83.85   | 82.60    | 418.30   | 396.10   | 117.65   | 160.15   | 512.20   | 632.15   | 61.10    | 77.10    | \n",
       "| 2001-04-01 | 1        | 1064.60  |  883.40  | 12075.80 | 12011.20 | 3491.15  | 3046.85  | 10965.85 | 11107.70 | 1763.55  | ⋯        |  93.45   | 83.85    | 318.05   | 418.30   | 132.25   | 117.65   | 532.40   | 512.20   | 65.55    | 61.10    | \n",
       "| 2001-07-01 | 1        |  917.45  | 1064.60  | 11993.55 | 12075.80 | 3698.35  | 3491.15  | 11059.70 | 10965.85 | 1836.95  | ⋯        | 105.40   | 93.45    | 374.60   | 318.05   | 181.80   | 132.25   | 525.15   | 532.40   | 58.95    | 65.55    | \n",
       "\n",
       "\n"
      ],
      "text/plain": [
       "           (Intercept) ATA     lag(ATA) ATB      lag(ATB) ATF     lag(ATF)\n",
       "2000-04-01 1            965.10  831.80  11447.50 11055.15 3603.20 3068.05 \n",
       "2000-07-01 1            883.70  965.10  11531.30 11447.50 3705.15 3603.20 \n",
       "2000-10-01 1            846.95  883.70  12257.60 11531.30 3941.00 3705.15 \n",
       "2001-01-01 1            883.40  846.95  12011.20 12257.60 3046.85 3941.00 \n",
       "2001-04-01 1           1064.60  883.40  12075.80 12011.20 3491.15 3046.85 \n",
       "2001-07-01 1            917.45 1064.60  11993.55 12075.80 3698.35 3491.15 \n",
       "           ATG      lag(ATG) ATJ     ⋯ BGK    lag(BGK) BGL    lag(BGL) BGM   \n",
       "2000-04-01 10724.70 10558.90 1523.85 ⋯  69.95 70.25    357.35 334.70   129.65\n",
       "2000-07-01 10927.95 10724.70 1541.60 ⋯  77.05 69.95    364.45 357.35   147.05\n",
       "2000-10-01 11148.90 10927.95 1658.85 ⋯  82.60 77.05    396.10 364.45   160.15\n",
       "2001-01-01 11107.70 11148.90 1724.85 ⋯  83.85 82.60    418.30 396.10   117.65\n",
       "2001-04-01 10965.85 11107.70 1763.55 ⋯  93.45 83.85    318.05 418.30   132.25\n",
       "2001-07-01 11059.70 10965.85 1836.95 ⋯ 105.40 93.45    374.60 318.05   181.80\n",
       "           lag(BGM) BGO    lag(BGO) BGR   lag(BGR)\n",
       "2000-04-01 104.45   493.50 493.65   67.00 63.70   \n",
       "2000-07-01 129.65   528.00 493.50   63.75 67.00   \n",
       "2000-10-01 147.05   632.15 528.00   77.10 63.75   \n",
       "2001-01-01 160.15   512.20 632.15   61.10 77.10   \n",
       "2001-04-01 117.65   532.40 512.20   65.55 61.10   \n",
       "2001-07-01 132.25   525.15 532.40   58.95 65.55   "
      ]
     },
     "metadata": {},
     "output_type": "display_data"
    }
   ],
   "source": [
    "#the model\n",
    "X<-model.matrix(~ATA + lag( ATA ) + ATB + lag( ATB ) + ATF + lag( ATF ) + ATG + lag( ATG ) + ATJ + lag( ATJ ) + ATK + lag( ATK ) + ATL + lag( ATL ) + ATM + lag( ATM ) + ATO + lag( ATO ) + ATR + lag( ATR ) + BEA + lag( BEA ) + BEB + lag( BEB ) + BEF + lag( BEF ) + BEG + lag( BEG ) + BEJ + lag( BEJ ) + BEK + lag( BEK ) + BEL + lag( BEL ) + BEM + lag( BEM ) + BEO + lag( BEO ) + BER + lag( BER ) + BGA + lag( BGA ) + BGB + lag( BGB ) + BGF + lag( BGF ) + BGG + lag( BGG ) + BGJ + lag( BGJ ) + BGK + lag( BGK ) + BGL + lag( BGL ) + BGM + lag( BGM ) + BGO + lag( BGO ) + BGR + lag( BGR ),dat)\n",
    "head(X)"
   ]
  },
  {
   "cell_type": "code",
   "execution_count": null,
   "metadata": {},
   "outputs": [],
   "source": [
    "#the regression slopes\n",
    "betas<-runif(4,-1,1)\n",
    "betas\n",
    "#the standard deviation for the simulated data\n",
    "sigma<-1\n",
    "\n",
    "#the simulated data\n",
    "y_norm<-rnorm(100,X%*%betas,sigma)\n",
    "y_norm\n",
    "\n",
    "\n",
    "#a matrix to get the predicted y values\n",
    "new_X<-model.matrix(~x1*x2,expand.grid(x1=seq(min(dat$x1),max(dat$x1),length=20),x2=c(min(dat$x2),mean(dat$x2),max(dat$x2))))\n",
    "new_X  %>%  head()"
   ]
  },
  {
   "cell_type": "code",
   "execution_count": 46,
   "metadata": {},
   "outputs": [],
   "source": [
    "#the location of the model files\n",
    "setwd(\"/home/xenakas/Desktop/Git/bayesian_inference/STAN\")"
   ]
  },
  {
   "cell_type": "code",
   "execution_count": 55,
   "metadata": {},
   "outputs": [
    {
     "data": {
      "text/html": [
       "<ol class=list-inline>\n",
       "\t<li>75</li>\n",
       "\t<li>30</li>\n",
       "</ol>\n"
      ],
      "text/latex": [
       "\\begin{enumerate*}\n",
       "\\item 75\n",
       "\\item 30\n",
       "\\end{enumerate*}\n"
      ],
      "text/markdown": [
       "1. 75\n",
       "2. 30\n",
       "\n",
       "\n"
      ],
      "text/plain": [
       "[1] 75 30"
      ]
     },
     "metadata": {},
     "output_type": "display_data"
    }
   ],
   "source": [
    "dim(dat)"
   ]
  },
  {
   "cell_type": "code",
   "execution_count": 63,
   "metadata": {},
   "outputs": [
    {
     "name": "stderr",
     "output_type": "stream",
     "text": [
      "failed to create the sampler; sampling not done\n"
     ]
    },
    {
     "data": {
      "text/plain": [
       "Time difference of 0.05053973 secs"
      ]
     },
     "metadata": {},
     "output_type": "display_data"
    }
   ],
   "source": [
    "start_time <- Sys.time()\n",
    "#the model\n",
    "m_norm<-stan(file=\"hm.stan\",data = list(N=30,K=4,numG=3,y=dat,sizes= c(10,10,10)),pars = c(\"local_sigma\",\"global_sigma\",\"z\", \"global_beta\"))\n",
    "end_time <- Sys.time()\n",
    "end_time - start_time"
   ]
  },
  {
   "cell_type": "code",
   "execution_count": 59,
   "metadata": {},
   "outputs": [
    {
     "data": {
      "text/html": [
       "225"
      ],
      "text/latex": [
       "225"
      ],
      "text/markdown": [
       "225"
      ],
      "text/plain": [
       "[1] 225"
      ]
     },
     "metadata": {},
     "output_type": "display_data"
    }
   ],
   "source": [
    "75*3"
   ]
  },
  {
   "cell_type": "code",
   "execution_count": 62,
   "metadata": {},
   "outputs": [
    {
     "data": {
      "text/html": [
       "<table>\n",
       "<thead><tr><th></th><th scope=col>ATA</th></tr></thead>\n",
       "<tbody>\n",
       "\t<tr><th scope=row>2000-01-01</th><td> 831.80</td></tr>\n",
       "\t<tr><th scope=row>2000-04-01</th><td> 965.10</td></tr>\n",
       "\t<tr><th scope=row>2000-07-01</th><td> 883.70</td></tr>\n",
       "\t<tr><th scope=row>2000-10-01</th><td> 846.95</td></tr>\n",
       "\t<tr><th scope=row>2001-01-01</th><td> 883.40</td></tr>\n",
       "\t<tr><th scope=row>2001-04-01</th><td>1064.60</td></tr>\n",
       "\t<tr><th scope=row>2001-07-01</th><td> 917.45</td></tr>\n",
       "\t<tr><th scope=row>2001-10-01</th><td> 813.85</td></tr>\n",
       "\t<tr><th scope=row>2002-01-01</th><td> 887.35</td></tr>\n",
       "\t<tr><th scope=row>2002-04-01</th><td> 948.60</td></tr>\n",
       "\t<tr><th scope=row>2002-07-01</th><td> 919.05</td></tr>\n",
       "\t<tr><th scope=row>2002-10-01</th><td> 796.35</td></tr>\n",
       "\t<tr><th scope=row>2003-01-01</th><td> 835.95</td></tr>\n",
       "\t<tr><th scope=row>2003-04-01</th><td> 973.25</td></tr>\n",
       "\t<tr><th scope=row>2003-07-01</th><td> 859.90</td></tr>\n",
       "\t<tr><th scope=row>2003-10-01</th><td> 792.75</td></tr>\n",
       "\t<tr><th scope=row>2004-01-01</th><td> 875.85</td></tr>\n",
       "\t<tr><th scope=row>2004-04-01</th><td>1090.60</td></tr>\n",
       "\t<tr><th scope=row>2004-07-01</th><td> 859.00</td></tr>\n",
       "\t<tr><th scope=row>2004-10-01</th><td> 734.00</td></tr>\n",
       "\t<tr><th scope=row>2005-01-01</th><td> 767.60</td></tr>\n",
       "\t<tr><th scope=row>2005-04-01</th><td> 917.65</td></tr>\n",
       "\t<tr><th scope=row>2005-07-01</th><td> 778.20</td></tr>\n",
       "\t<tr><th scope=row>2005-10-01</th><td> 736.00</td></tr>\n",
       "\t<tr><th scope=row>2006-01-01</th><td> 795.95</td></tr>\n",
       "\t<tr><th scope=row>2006-04-01</th><td>1006.65</td></tr>\n",
       "\t<tr><th scope=row>2006-07-01</th><td> 868.75</td></tr>\n",
       "\t<tr><th scope=row>2006-10-01</th><td> 818.90</td></tr>\n",
       "\t<tr><th scope=row>2007-01-01</th><td> 953.90</td></tr>\n",
       "\t<tr><th scope=row>2007-04-01</th><td>1084.70</td></tr>\n",
       "\t<tr><th scope=row>⋮</th><td>⋮</td></tr>\n",
       "\t<tr><th scope=row>2011-04-01</th><td>1246.95</td></tr>\n",
       "\t<tr><th scope=row>2011-07-01</th><td>1065.35</td></tr>\n",
       "\t<tr><th scope=row>2011-10-01</th><td> 952.30</td></tr>\n",
       "\t<tr><th scope=row>2012-01-01</th><td>1026.50</td></tr>\n",
       "\t<tr><th scope=row>2012-04-01</th><td>1167.35</td></tr>\n",
       "\t<tr><th scope=row>2012-07-01</th><td>1076.15</td></tr>\n",
       "\t<tr><th scope=row>2012-10-01</th><td>1044.10</td></tr>\n",
       "\t<tr><th scope=row>2013-01-01</th><td>1074.75</td></tr>\n",
       "\t<tr><th scope=row>2013-04-01</th><td>1100.80</td></tr>\n",
       "\t<tr><th scope=row>2013-07-01</th><td> 989.55</td></tr>\n",
       "\t<tr><th scope=row>2013-10-01</th><td> 908.85</td></tr>\n",
       "\t<tr><th scope=row>2014-01-01</th><td> 990.95</td></tr>\n",
       "\t<tr><th scope=row>2014-04-01</th><td>1176.10</td></tr>\n",
       "\t<tr><th scope=row>2014-07-01</th><td> 976.05</td></tr>\n",
       "\t<tr><th scope=row>2014-10-01</th><td> 848.20</td></tr>\n",
       "\t<tr><th scope=row>2015-01-01</th><td> 917.25</td></tr>\n",
       "\t<tr><th scope=row>2015-04-01</th><td>1110.00</td></tr>\n",
       "\t<tr><th scope=row>2015-07-01</th><td> 978.45</td></tr>\n",
       "\t<tr><th scope=row>2015-10-01</th><td> 884.55</td></tr>\n",
       "\t<tr><th scope=row>2016-01-01</th><td> 953.90</td></tr>\n",
       "\t<tr><th scope=row>2016-04-01</th><td>1139.95</td></tr>\n",
       "\t<tr><th scope=row>2016-07-01</th><td> 978.25</td></tr>\n",
       "\t<tr><th scope=row>2016-10-01</th><td> 890.65</td></tr>\n",
       "\t<tr><th scope=row>2017-01-01</th><td>1032.50</td></tr>\n",
       "\t<tr><th scope=row>2017-04-01</th><td>1208.75</td></tr>\n",
       "\t<tr><th scope=row>2017-07-01</th><td>1125.85</td></tr>\n",
       "\t<tr><th scope=row>2017-10-01</th><td>1095.15</td></tr>\n",
       "\t<tr><th scope=row>2018-01-01</th><td>1147.10</td></tr>\n",
       "\t<tr><th scope=row>2018-04-01</th><td>1260.70</td></tr>\n",
       "\t<tr><th scope=row>2018-07-01</th><td>1104.30</td></tr>\n",
       "</tbody>\n",
       "</table>\n"
      ],
      "text/latex": [
       "\\begin{tabular}{r|l}\n",
       "  & ATA\\\\\n",
       "\\hline\n",
       "\t2000-01-01 &  831.80\\\\\n",
       "\t2000-04-01 &  965.10\\\\\n",
       "\t2000-07-01 &  883.70\\\\\n",
       "\t2000-10-01 &  846.95\\\\\n",
       "\t2001-01-01 &  883.40\\\\\n",
       "\t2001-04-01 & 1064.60\\\\\n",
       "\t2001-07-01 &  917.45\\\\\n",
       "\t2001-10-01 &  813.85\\\\\n",
       "\t2002-01-01 &  887.35\\\\\n",
       "\t2002-04-01 &  948.60\\\\\n",
       "\t2002-07-01 &  919.05\\\\\n",
       "\t2002-10-01 &  796.35\\\\\n",
       "\t2003-01-01 &  835.95\\\\\n",
       "\t2003-04-01 &  973.25\\\\\n",
       "\t2003-07-01 &  859.90\\\\\n",
       "\t2003-10-01 &  792.75\\\\\n",
       "\t2004-01-01 &  875.85\\\\\n",
       "\t2004-04-01 & 1090.60\\\\\n",
       "\t2004-07-01 &  859.00\\\\\n",
       "\t2004-10-01 &  734.00\\\\\n",
       "\t2005-01-01 &  767.60\\\\\n",
       "\t2005-04-01 &  917.65\\\\\n",
       "\t2005-07-01 &  778.20\\\\\n",
       "\t2005-10-01 &  736.00\\\\\n",
       "\t2006-01-01 &  795.95\\\\\n",
       "\t2006-04-01 & 1006.65\\\\\n",
       "\t2006-07-01 &  868.75\\\\\n",
       "\t2006-10-01 &  818.90\\\\\n",
       "\t2007-01-01 &  953.90\\\\\n",
       "\t2007-04-01 & 1084.70\\\\\n",
       "\t⋮ & ⋮\\\\\n",
       "\t2011-04-01 & 1246.95\\\\\n",
       "\t2011-07-01 & 1065.35\\\\\n",
       "\t2011-10-01 &  952.30\\\\\n",
       "\t2012-01-01 & 1026.50\\\\\n",
       "\t2012-04-01 & 1167.35\\\\\n",
       "\t2012-07-01 & 1076.15\\\\\n",
       "\t2012-10-01 & 1044.10\\\\\n",
       "\t2013-01-01 & 1074.75\\\\\n",
       "\t2013-04-01 & 1100.80\\\\\n",
       "\t2013-07-01 &  989.55\\\\\n",
       "\t2013-10-01 &  908.85\\\\\n",
       "\t2014-01-01 &  990.95\\\\\n",
       "\t2014-04-01 & 1176.10\\\\\n",
       "\t2014-07-01 &  976.05\\\\\n",
       "\t2014-10-01 &  848.20\\\\\n",
       "\t2015-01-01 &  917.25\\\\\n",
       "\t2015-04-01 & 1110.00\\\\\n",
       "\t2015-07-01 &  978.45\\\\\n",
       "\t2015-10-01 &  884.55\\\\\n",
       "\t2016-01-01 &  953.90\\\\\n",
       "\t2016-04-01 & 1139.95\\\\\n",
       "\t2016-07-01 &  978.25\\\\\n",
       "\t2016-10-01 &  890.65\\\\\n",
       "\t2017-01-01 & 1032.50\\\\\n",
       "\t2017-04-01 & 1208.75\\\\\n",
       "\t2017-07-01 & 1125.85\\\\\n",
       "\t2017-10-01 & 1095.15\\\\\n",
       "\t2018-01-01 & 1147.10\\\\\n",
       "\t2018-04-01 & 1260.70\\\\\n",
       "\t2018-07-01 & 1104.30\\\\\n",
       "\\end{tabular}\n"
      ],
      "text/markdown": [
       "\n",
       "| <!--/--> | ATA | \n",
       "|---|---|---|---|---|---|---|---|---|---|---|---|---|---|---|---|---|---|---|---|---|---|---|---|---|---|---|---|---|---|---|---|---|---|---|---|---|---|---|---|---|---|---|---|---|---|---|---|---|---|---|---|---|---|---|---|---|---|---|---|---|\n",
       "| 2000-01-01 |  831.80 | \n",
       "| 2000-04-01 |  965.10 | \n",
       "| 2000-07-01 |  883.70 | \n",
       "| 2000-10-01 |  846.95 | \n",
       "| 2001-01-01 |  883.40 | \n",
       "| 2001-04-01 | 1064.60 | \n",
       "| 2001-07-01 |  917.45 | \n",
       "| 2001-10-01 |  813.85 | \n",
       "| 2002-01-01 |  887.35 | \n",
       "| 2002-04-01 |  948.60 | \n",
       "| 2002-07-01 |  919.05 | \n",
       "| 2002-10-01 |  796.35 | \n",
       "| 2003-01-01 |  835.95 | \n",
       "| 2003-04-01 |  973.25 | \n",
       "| 2003-07-01 |  859.90 | \n",
       "| 2003-10-01 |  792.75 | \n",
       "| 2004-01-01 |  875.85 | \n",
       "| 2004-04-01 | 1090.60 | \n",
       "| 2004-07-01 |  859.00 | \n",
       "| 2004-10-01 |  734.00 | \n",
       "| 2005-01-01 |  767.60 | \n",
       "| 2005-04-01 |  917.65 | \n",
       "| 2005-07-01 |  778.20 | \n",
       "| 2005-10-01 |  736.00 | \n",
       "| 2006-01-01 |  795.95 | \n",
       "| 2006-04-01 | 1006.65 | \n",
       "| 2006-07-01 |  868.75 | \n",
       "| 2006-10-01 |  818.90 | \n",
       "| 2007-01-01 |  953.90 | \n",
       "| 2007-04-01 | 1084.70 | \n",
       "| ⋮ | ⋮ | \n",
       "| 2011-04-01 | 1246.95 | \n",
       "| 2011-07-01 | 1065.35 | \n",
       "| 2011-10-01 |  952.30 | \n",
       "| 2012-01-01 | 1026.50 | \n",
       "| 2012-04-01 | 1167.35 | \n",
       "| 2012-07-01 | 1076.15 | \n",
       "| 2012-10-01 | 1044.10 | \n",
       "| 2013-01-01 | 1074.75 | \n",
       "| 2013-04-01 | 1100.80 | \n",
       "| 2013-07-01 |  989.55 | \n",
       "| 2013-10-01 |  908.85 | \n",
       "| 2014-01-01 |  990.95 | \n",
       "| 2014-04-01 | 1176.10 | \n",
       "| 2014-07-01 |  976.05 | \n",
       "| 2014-10-01 |  848.20 | \n",
       "| 2015-01-01 |  917.25 | \n",
       "| 2015-04-01 | 1110.00 | \n",
       "| 2015-07-01 |  978.45 | \n",
       "| 2015-10-01 |  884.55 | \n",
       "| 2016-01-01 |  953.90 | \n",
       "| 2016-04-01 | 1139.95 | \n",
       "| 2016-07-01 |  978.25 | \n",
       "| 2016-10-01 |  890.65 | \n",
       "| 2017-01-01 | 1032.50 | \n",
       "| 2017-04-01 | 1208.75 | \n",
       "| 2017-07-01 | 1125.85 | \n",
       "| 2017-10-01 | 1095.15 | \n",
       "| 2018-01-01 | 1147.10 | \n",
       "| 2018-04-01 | 1260.70 | \n",
       "| 2018-07-01 | 1104.30 | \n",
       "\n",
       "\n"
      ],
      "text/plain": [
       "           ATA    \n",
       "2000-01-01  831.80\n",
       "2000-04-01  965.10\n",
       "2000-07-01  883.70\n",
       "2000-10-01  846.95\n",
       "2001-01-01  883.40\n",
       "2001-04-01 1064.60\n",
       "2001-07-01  917.45\n",
       "2001-10-01  813.85\n",
       "2002-01-01  887.35\n",
       "2002-04-01  948.60\n",
       "2002-07-01  919.05\n",
       "2002-10-01  796.35\n",
       "2003-01-01  835.95\n",
       "2003-04-01  973.25\n",
       "2003-07-01  859.90\n",
       "2003-10-01  792.75\n",
       "2004-01-01  875.85\n",
       "2004-04-01 1090.60\n",
       "2004-07-01  859.00\n",
       "2004-10-01  734.00\n",
       "2005-01-01  767.60\n",
       "2005-04-01  917.65\n",
       "2005-07-01  778.20\n",
       "2005-10-01  736.00\n",
       "2006-01-01  795.95\n",
       "2006-04-01 1006.65\n",
       "2006-07-01  868.75\n",
       "2006-10-01  818.90\n",
       "2007-01-01  953.90\n",
       "2007-04-01 1084.70\n",
       "⋮          ⋮      \n",
       "2011-04-01 1246.95\n",
       "2011-07-01 1065.35\n",
       "2011-10-01  952.30\n",
       "2012-01-01 1026.50\n",
       "2012-04-01 1167.35\n",
       "2012-07-01 1076.15\n",
       "2012-10-01 1044.10\n",
       "2013-01-01 1074.75\n",
       "2013-04-01 1100.80\n",
       "2013-07-01  989.55\n",
       "2013-10-01  908.85\n",
       "2014-01-01  990.95\n",
       "2014-04-01 1176.10\n",
       "2014-07-01  976.05\n",
       "2014-10-01  848.20\n",
       "2015-01-01  917.25\n",
       "2015-04-01 1110.00\n",
       "2015-07-01  978.45\n",
       "2015-10-01  884.55\n",
       "2016-01-01  953.90\n",
       "2016-04-01 1139.95\n",
       "2016-07-01  978.25\n",
       "2016-10-01  890.65\n",
       "2017-01-01 1032.50\n",
       "2017-04-01 1208.75\n",
       "2017-07-01 1125.85\n",
       "2017-10-01 1095.15\n",
       "2018-01-01 1147.10\n",
       "2018-04-01 1260.70\n",
       "2018-07-01 1104.30"
      ]
     },
     "metadata": {},
     "output_type": "display_data"
    }
   ],
   "source": [
    "dat[1]"
   ]
  },
  {
   "cell_type": "code",
   "execution_count": null,
   "metadata": {},
   "outputs": [],
   "source": []
  }
 ],
 "metadata": {
  "kernelspec": {
   "display_name": "R 3.5.1",
   "language": "R",
   "name": "ir"
  },
  "language_info": {
   "codemirror_mode": "r",
   "file_extension": ".r",
   "mimetype": "text/x-r-source",
   "name": "R",
   "pygments_lexer": "r",
   "version": "3.5.2"
  }
 },
 "nbformat": 4,
 "nbformat_minor": 2
}
